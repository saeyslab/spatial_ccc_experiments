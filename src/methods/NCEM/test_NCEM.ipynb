{
 "cells": [
  {
   "cell_type": "code",
   "execution_count": 1,
   "id": "729ab189-58d2-4e5a-a0eb-0ee300fa6b5b",
   "metadata": {},
   "outputs": [
    {
     "name": "stderr",
     "output_type": "stream",
     "text": [
      "2024-06-11 17:10:23.195433: I external/local_tsl/tsl/cuda/cudart_stub.cc:32] Could not find cuda drivers on your machine, GPU will not be used.\n",
      "2024-06-11 17:10:26.894930: I external/local_tsl/tsl/cuda/cudart_stub.cc:32] Could not find cuda drivers on your machine, GPU will not be used.\n",
      "2024-06-11 17:10:33.236204: I tensorflow/core/platform/cpu_feature_guard.cc:210] This TensorFlow binary is optimized to use available CPU instructions in performance-critical operations.\n",
      "To enable the following instructions: AVX2 AVX512F FMA, in other operations, rebuild TensorFlow with the appropriate compiler flags.\n",
      "2024-06-11 17:11:32.993043: W tensorflow/compiler/tf2tensorrt/utils/py_utils.cc:38] TF-TRT Warning: Could not find TensorRT\n"
     ]
    }
   ],
   "source": [
    "import ncem\n",
    "import matplotlib.pyplot as plt\n",
    "import pandas as pd\n",
    "import scanpy as sc\n",
    "import anndata as ad\n",
    "sc.settings.set_figure_params(dpi=80)"
   ]
  },
  {
   "cell_type": "markdown",
   "id": "56c71ef7-0a2e-48f2-bab2-5eb5a2432540",
   "metadata": {},
   "source": [
    "# NCEM\n",
    "\n",
    "NCEM github repo: https://ncem.readthedocs.io/en/latest/\n",
    "\n",
    "Geome Linear NCEM: https://github.com/theislab/geome/blob/main/docs/notebooks/4_linear_NCEM_graph.ipynb"
   ]
  },
  {
   "cell_type": "code",
   "execution_count": 7,
   "id": "ca6f1b0c-f50d-4a91-a1f3-f3a5b41af559",
   "metadata": {},
   "outputs": [],
   "source": [
    "data_path_base = \"/lustre/groups/ml01/datasets/2024_spatial_ccc_experiments_francesca.drummer/dataset.h5ad\""
   ]
  },
  {
   "cell_type": "markdown",
   "id": "0b21c674-adc0-466a-9be9-92c7c39c94ff",
   "metadata": {},
   "source": [
    "## Model training\n",
    "\n",
    "https://github.com/theislab/ncem_tutorials/blob/main/tutorials/model_tutorial_interactions.ipynb"
   ]
  },
  {
   "cell_type": "code",
   "execution_count": 8,
   "id": "87859811-00e3-4a37-9d6a-613de49b1607",
   "metadata": {},
   "outputs": [],
   "source": [
    "data_set = 'zhuang'\n",
    "data_path = data_path_base + '/zhuang/'\n",
    "log_transform = False\n",
    "use_domain = True\n",
    "scale_node_size=False\n",
    "merge_node_types_predefined = True\n",
    "covar_selection = []\n",
    "output_layer='linear'"
   ]
  },
  {
   "cell_type": "code",
   "execution_count": 9,
   "id": "3465f51c-5e9a-4abe-80f6-7461e48856b3",
   "metadata": {},
   "outputs": [],
   "source": [
    "# define parameters\n",
    "model_class = 'interactions'\n",
    "optimizer = 'adam'\n",
    "domain_type = 'patient'\n",
    "\n",
    "learning_rate = 0.05\n",
    "l1 = 0.\n",
    "l2 = 0.\n",
    "\n",
    "batch_size = 64\n",
    "radius = 100\n",
    "n_eval_nodes = 10\n",
    "\n",
    "gs_id = f\"tutorial_{model_class}_{radius}_{data_set}_{domain_type}\""
   ]
  },
  {
   "cell_type": "code",
   "execution_count": 10,
   "id": "2e33cc7f-b905-4cf5-8c10-e79c84add9b8",
   "metadata": {},
   "outputs": [],
   "source": [
    "ncv = 3\n",
    "epochs = 2000 if \"tutorial\" not in gs_id else 10 \n",
    "epochs_warmup = 0\n",
    "max_steps_per_epoch = 20\n",
    "patience = 100\n",
    "lr_schedule_min_lr = 1e-10\n",
    "lr_schedule_factor = 0.5\n",
    "lr_schedule_patience = 50\n",
    "val_bs = 16\n",
    "max_val_steps_per_epoch = 10\n",
    "shuffle_buffer_size = None\n",
    "\n",
    "feature_space_id = \"standard\"\n",
    "cond_feature_space_id = \"type\"\n",
    "\n",
    "use_covar_node_label = False\n",
    "use_covar_node_position = False\n",
    "use_covar_graph_covar = False"
   ]
  },
  {
   "cell_type": "code",
   "execution_count": 11,
   "id": "7376d96d-8806-45ed-80ae-8a850806bde7",
   "metadata": {},
   "outputs": [],
   "source": [
    "trainer = ncem.train.TrainModelInteractions()"
   ]
  },
  {
   "cell_type": "code",
   "execution_count": 12,
   "id": "b975352d-0b44-4d6c-8bfe-765d481c5832",
   "metadata": {},
   "outputs": [],
   "source": [
    "trainer.init_estim(log_transform=log_transform)"
   ]
  },
  {
   "cell_type": "code",
   "execution_count": 13,
   "id": "3d7b3f2e-4f0b-43de-8884-dac3cc0b5ea7",
   "metadata": {},
   "outputs": [
    {
     "ename": "UnboundLocalError",
     "evalue": "local variable 'DataLoader' referenced before assignment",
     "output_type": "error",
     "traceback": [
      "\u001b[0;31m---------------------------------------------------------------------------\u001b[0m",
      "\u001b[0;31mUnboundLocalError\u001b[0m                         Traceback (most recent call last)",
      "Cell \u001b[0;32mIn[13], line 1\u001b[0m\n\u001b[0;32m----> 1\u001b[0m \u001b[43mtrainer\u001b[49m\u001b[38;5;241;43m.\u001b[39;49m\u001b[43mestimator\u001b[49m\u001b[38;5;241;43m.\u001b[39;49m\u001b[43mget_data\u001b[49m\u001b[43m(\u001b[49m\n\u001b[1;32m      2\u001b[0m \u001b[43m    \u001b[49m\u001b[43mdata_origin\u001b[49m\u001b[38;5;241;43m=\u001b[39;49m\u001b[43mdata_set\u001b[49m\u001b[43m,\u001b[49m\n\u001b[1;32m      3\u001b[0m \u001b[43m    \u001b[49m\u001b[43mdata_path\u001b[49m\u001b[38;5;241;43m=\u001b[39;49m\u001b[43mdata_path\u001b[49m\u001b[43m,\u001b[49m\n\u001b[1;32m      4\u001b[0m \u001b[43m    \u001b[49m\u001b[43mradius\u001b[49m\u001b[38;5;241;43m=\u001b[39;49m\u001b[43mradius\u001b[49m\u001b[43m,\u001b[49m\n\u001b[1;32m      5\u001b[0m \u001b[43m    \u001b[49m\u001b[43mgraph_covar_selection\u001b[49m\u001b[38;5;241;43m=\u001b[39;49m\u001b[43mcovar_selection\u001b[49m\u001b[43m,\u001b[49m\n\u001b[1;32m      6\u001b[0m \u001b[43m    \u001b[49m\u001b[43mnode_label_space_id\u001b[49m\u001b[38;5;241;43m=\u001b[39;49m\u001b[43mcond_feature_space_id\u001b[49m\u001b[43m,\u001b[49m\n\u001b[1;32m      7\u001b[0m \u001b[43m    \u001b[49m\u001b[43mnode_feature_space_id\u001b[49m\u001b[38;5;241;43m=\u001b[39;49m\u001b[43mfeature_space_id\u001b[49m\u001b[43m,\u001b[49m\n\u001b[1;32m      8\u001b[0m \u001b[43m    \u001b[49m\u001b[38;5;66;43;03m# feature_transformation=transformation_dict[transform_key],\u001b[39;49;00m\n\u001b[1;32m      9\u001b[0m \u001b[43m    \u001b[49m\u001b[43muse_covar_node_position\u001b[49m\u001b[38;5;241;43m=\u001b[39;49m\u001b[43muse_covar_node_position\u001b[49m\u001b[43m,\u001b[49m\n\u001b[1;32m     10\u001b[0m \u001b[43m    \u001b[49m\u001b[43muse_covar_node_label\u001b[49m\u001b[38;5;241;43m=\u001b[39;49m\u001b[43muse_covar_node_label\u001b[49m\u001b[43m,\u001b[49m\n\u001b[1;32m     11\u001b[0m \u001b[43m    \u001b[49m\u001b[43muse_covar_graph_covar\u001b[49m\u001b[38;5;241;43m=\u001b[39;49m\u001b[43muse_covar_graph_covar\u001b[49m\u001b[43m,\u001b[49m\n\u001b[1;32m     12\u001b[0m \u001b[43m    \u001b[49m\u001b[38;5;66;43;03m# hold_out_covariate=hold_out_covariate,\u001b[39;49;00m\n\u001b[1;32m     13\u001b[0m \u001b[43m    \u001b[49m\u001b[43mdomain_type\u001b[49m\u001b[38;5;241;43m=\u001b[39;49m\u001b[43mdomain_type\u001b[49m\u001b[43m,\u001b[49m\n\u001b[1;32m     14\u001b[0m \u001b[43m    \u001b[49m\u001b[38;5;66;43;03m# merge_node_types_predefined=merge_node_types_predefined,\u001b[39;49;00m\n\u001b[1;32m     15\u001b[0m \u001b[43m)\u001b[49m\n",
      "File \u001b[0;32m~/tools/apps/mamba/envs/ncem/lib/python3.9/site-packages/ncem/estimators/base_estimator.py:300\u001b[0m, in \u001b[0;36mEstimator.get_data\u001b[0;34m(self, data_origin, data_path, radius, n_rings, graph_covar_selection, node_label_space_id, node_feature_space_id, use_covar_node_position, use_covar_node_label, use_covar_graph_covar, domain_type, robustness, robustness_seed, n_top_genes, segmentation_robustness, resimulate_nodes, resimulate_nodes_w_depdency, resimulate_nodes_sparsity_rate)\u001b[0m\n\u001b[1;32m    298\u001b[0m     graph_covar_selection \u001b[38;5;241m=\u001b[39m []\n\u001b[1;32m    299\u001b[0m labels_to_load \u001b[38;5;241m=\u001b[39m graph_covar_selection\n\u001b[0;32m--> 300\u001b[0m \u001b[38;5;28;43mself\u001b[39;49m\u001b[38;5;241;43m.\u001b[39;49m\u001b[43m_load_data\u001b[49m\u001b[43m(\u001b[49m\n\u001b[1;32m    301\u001b[0m \u001b[43m    \u001b[49m\u001b[43mdata_origin\u001b[49m\u001b[38;5;241;43m=\u001b[39;49m\u001b[43mdata_origin\u001b[49m\u001b[43m,\u001b[49m\n\u001b[1;32m    302\u001b[0m \u001b[43m    \u001b[49m\u001b[43mdata_path\u001b[49m\u001b[38;5;241;43m=\u001b[39;49m\u001b[43mdata_path\u001b[49m\u001b[43m,\u001b[49m\n\u001b[1;32m    303\u001b[0m \u001b[43m    \u001b[49m\u001b[43mradius\u001b[49m\u001b[38;5;241;43m=\u001b[39;49m\u001b[43mradius\u001b[49m\u001b[43m,\u001b[49m\n\u001b[1;32m    304\u001b[0m \u001b[43m    \u001b[49m\u001b[43mn_rings\u001b[49m\u001b[38;5;241;43m=\u001b[39;49m\u001b[43mn_rings\u001b[49m\u001b[43m,\u001b[49m\n\u001b[1;32m    305\u001b[0m \u001b[43m    \u001b[49m\u001b[43mlabel_selection\u001b[49m\u001b[38;5;241;43m=\u001b[39;49m\u001b[43mlabels_to_load\u001b[49m\u001b[43m,\u001b[49m\n\u001b[1;32m    306\u001b[0m \u001b[43m    \u001b[49m\u001b[43mn_top_genes\u001b[49m\u001b[38;5;241;43m=\u001b[39;49m\u001b[43mn_top_genes\u001b[49m\u001b[43m,\u001b[49m\n\u001b[1;32m    307\u001b[0m \u001b[43m\u001b[49m\u001b[43m)\u001b[49m\n\u001b[1;32m    308\u001b[0m \u001b[38;5;28;01mif\u001b[39;00m robustness:\n\u001b[1;32m    309\u001b[0m     np\u001b[38;5;241m.\u001b[39mrandom\u001b[38;5;241m.\u001b[39mseed(robustness_seed)\n",
      "File \u001b[0;32m~/tools/apps/mamba/envs/ncem/lib/python3.9/site-packages/ncem/estimators/base_estimator.py:225\u001b[0m, in \u001b[0;36mEstimator._load_data\u001b[0;34m(self, data_origin, data_path, radius, n_rings, label_selection, n_top_genes)\u001b[0m\n\u001b[1;32m    221\u001b[0m     \u001b[38;5;28;01mfrom\u001b[39;00m \u001b[38;5;21;01mncem\u001b[39;00m\u001b[38;5;21;01m.\u001b[39;00m\u001b[38;5;21;01mdata\u001b[39;00m \u001b[38;5;28;01mimport\u001b[39;00m DataLoaderSalasIss \u001b[38;5;28;01mas\u001b[39;00m DataLoader\n\u001b[1;32m    223\u001b[0m     \u001b[38;5;28mself\u001b[39m\u001b[38;5;241m.\u001b[39mundefined_node_types \u001b[38;5;241m=\u001b[39m \u001b[38;5;28;01mNone\u001b[39;00m\n\u001b[0;32m--> 225\u001b[0m \u001b[38;5;28mself\u001b[39m\u001b[38;5;241m.\u001b[39mdata \u001b[38;5;241m=\u001b[39m \u001b[43mDataLoader\u001b[49m(\n\u001b[1;32m    226\u001b[0m     data_path,\n\u001b[1;32m    227\u001b[0m     radius\u001b[38;5;241m=\u001b[39mradius,\n\u001b[1;32m    228\u001b[0m     coord_type\u001b[38;5;241m=\u001b[39mcoord_type,\n\u001b[1;32m    229\u001b[0m     n_rings\u001b[38;5;241m=\u001b[39mn_rings,\n\u001b[1;32m    230\u001b[0m     label_selection\u001b[38;5;241m=\u001b[39mlabel_selection,\n\u001b[1;32m    231\u001b[0m     n_top_genes\u001b[38;5;241m=\u001b[39mn_top_genes,\n\u001b[1;32m    232\u001b[0m )\n",
      "\u001b[0;31mUnboundLocalError\u001b[0m: local variable 'DataLoader' referenced before assignment"
     ]
    }
   ],
   "source": [
    "trainer.estimator.get_data(\n",
    "    data_origin=data_set,\n",
    "    data_path=data_path,\n",
    "    radius=radius,\n",
    "    graph_covar_selection=covar_selection,\n",
    "    node_label_space_id=cond_feature_space_id,\n",
    "    node_feature_space_id=feature_space_id,\n",
    "    # feature_transformation=transformation_dict[transform_key],\n",
    "    use_covar_node_position=use_covar_node_position,\n",
    "    use_covar_node_label=use_covar_node_label,\n",
    "    use_covar_graph_covar=use_covar_graph_covar,\n",
    "    # hold_out_covariate=hold_out_covariate,\n",
    "    domain_type=domain_type,\n",
    "    # merge_node_types_predefined=merge_node_types_predefined,\n",
    ")"
   ]
  },
  {
   "cell_type": "markdown",
   "id": "61e0edc1-6691-4e83-9672-5912fea7e072",
   "metadata": {},
   "source": [
    "## Analysis"
   ]
  },
  {
   "cell_type": "code",
   "execution_count": 2,
   "id": "bd376bb8-5fc7-465b-85bc-18c83f477e25",
   "metadata": {},
   "outputs": [],
   "source": [
    "input_path = \"/lustre/groups/ml01/datasets/2024_spatial_ccc_experiments_francesca.drummer/dataset.h5ad\"\n",
    "output_path = \"/lustre/groups/ml01/datasets/2024_spatial_ccc_experiments_francesca.drummer/experiments\""
   ]
  },
  {
   "cell_type": "code",
   "execution_count": 3,
   "id": "d359b4ce",
   "metadata": {},
   "outputs": [
    {
     "data": {
      "text/plain": [
       "AnnData object with n_obs × n_vars = 37068 × 1122\n",
       "    obs: 'brain_section_label', 'brain_section_label_right', 'feature_matrix_label', 'donor_label', 'donor_genotype', 'donor_sex', 'cluster_alias', 'x', 'y', 'z', 'subclass_confidence_score', 'cluster_confidence_score', 'high_quality_transfer', 'neurotransmitter', 'class', 'subclass', 'supertype', 'cluster', 'neurotransmitter_color', 'class_color', 'subclass_color', 'supertype_color', 'cluster_color', 'dataset_id', 'sample_id', 'donor_id', 'condition_id', 'tissue', 'organism', 'assay_ontology', 'assay', 'celltype', 'fov'\n",
       "    var: 'gene_symbol', 'name', 'mapped_ncbi_identifier'\n",
       "    uns: 'log1p'\n",
       "    obsm: 'spatial'\n",
       "    layers: 'counts', 'normalized'"
      ]
     },
     "execution_count": 3,
     "metadata": {},
     "output_type": "execute_result"
    }
   ],
   "source": [
    "adata = ad.read_h5ad(input_path)\n",
    "adata"
   ]
  },
  {
   "cell_type": "code",
   "execution_count": 4,
   "id": "d83e8eca",
   "metadata": {},
   "outputs": [],
   "source": [
    "interpreter = ncem.interpretation.interpreter.InterpreterInteraction()"
   ]
  },
  {
   "cell_type": "code",
   "execution_count": null,
   "id": "2fb9f001-384b-4524-b034-8c30d306cefd",
   "metadata": {},
   "outputs": [],
   "source": []
  }
 ],
 "metadata": {
  "kernelspec": {
   "display_name": "Python 3 (ipykernel)",
   "language": "python",
   "name": "python3"
  },
  "language_info": {
   "codemirror_mode": {
    "name": "ipython",
    "version": 3
   },
   "file_extension": ".py",
   "mimetype": "text/x-python",
   "name": "python",
   "nbconvert_exporter": "python",
   "pygments_lexer": "ipython3",
   "version": "3.11.9"
  }
 },
 "nbformat": 4,
 "nbformat_minor": 5
}
